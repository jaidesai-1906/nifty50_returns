{
 "cells": [
  {
   "cell_type": "code",
   "execution_count": 1015,
   "metadata": {},
   "outputs": [],
   "source": [
    "import yfinance as yf\n",
    "import pandas as pd\n",
    "from datetime import datetime, timedelta\n",
    "from sklearn.model_selection import train_test_split\n",
    "import numpy as np\n",
    "import seaborn as sns\n",
    "import matplotlib.pyplot as plt\n",
    "import matplotlib.dates as mdates\n",
    "import statsmodels.api as sm\n",
    "from sklearn.decomposition import PCA\n",
    "from sklearn.preprocessing import StandardScaler\n",
    "from sklearn.metrics import mean_squared_error, r2_score, mean_absolute_error\n",
    "from matplotlib.ticker import MaxNLocator\n"
   ]
  },
  {
   "cell_type": "code",
   "execution_count": 1016,
   "metadata": {},
   "outputs": [],
   "source": [
    "# Define the start and end dates for fetching the data\n",
    "start_date = datetime.now() - timedelta(days=3*365)\n",
    "end_date = datetime.now()\n"
   ]
  },
  {
   "cell_type": "code",
   "execution_count": 1017,
   "metadata": {},
   "outputs": [
    {
     "name": "stderr",
     "output_type": "stream",
     "text": [
      "/var/folders/73/_pyhnkr96qgd0jnrc2yy1bdr0000gn/T/ipykernel_9194/2949330940.py:15: SettingWithCopyWarning: \n",
      "A value is trying to be set on a copy of a slice from a DataFrame.\n",
      "Try using .loc[row_indexer,col_indexer] = value instead\n",
      "\n",
      "See the caveats in the documentation: https://pandas.pydata.org/pandas-docs/stable/user_guide/indexing.html#returning-a-view-versus-a-copy\n",
      "  df[ticker] = df['Close'].pct_change()\n",
      "/var/folders/73/_pyhnkr96qgd0jnrc2yy1bdr0000gn/T/ipykernel_9194/2949330940.py:15: SettingWithCopyWarning: \n",
      "A value is trying to be set on a copy of a slice from a DataFrame.\n",
      "Try using .loc[row_indexer,col_indexer] = value instead\n",
      "\n",
      "See the caveats in the documentation: https://pandas.pydata.org/pandas-docs/stable/user_guide/indexing.html#returning-a-view-versus-a-copy\n",
      "  df[ticker] = df['Close'].pct_change()\n",
      "/var/folders/73/_pyhnkr96qgd0jnrc2yy1bdr0000gn/T/ipykernel_9194/2949330940.py:15: SettingWithCopyWarning: \n",
      "A value is trying to be set on a copy of a slice from a DataFrame.\n",
      "Try using .loc[row_indexer,col_indexer] = value instead\n",
      "\n",
      "See the caveats in the documentation: https://pandas.pydata.org/pandas-docs/stable/user_guide/indexing.html#returning-a-view-versus-a-copy\n",
      "  df[ticker] = df['Close'].pct_change()\n",
      "/var/folders/73/_pyhnkr96qgd0jnrc2yy1bdr0000gn/T/ipykernel_9194/2949330940.py:15: SettingWithCopyWarning: \n",
      "A value is trying to be set on a copy of a slice from a DataFrame.\n",
      "Try using .loc[row_indexer,col_indexer] = value instead\n",
      "\n",
      "See the caveats in the documentation: https://pandas.pydata.org/pandas-docs/stable/user_guide/indexing.html#returning-a-view-versus-a-copy\n",
      "  df[ticker] = df['Close'].pct_change()\n",
      "/var/folders/73/_pyhnkr96qgd0jnrc2yy1bdr0000gn/T/ipykernel_9194/2949330940.py:15: SettingWithCopyWarning: \n",
      "A value is trying to be set on a copy of a slice from a DataFrame.\n",
      "Try using .loc[row_indexer,col_indexer] = value instead\n",
      "\n",
      "See the caveats in the documentation: https://pandas.pydata.org/pandas-docs/stable/user_guide/indexing.html#returning-a-view-versus-a-copy\n",
      "  df[ticker] = df['Close'].pct_change()\n",
      "/var/folders/73/_pyhnkr96qgd0jnrc2yy1bdr0000gn/T/ipykernel_9194/2949330940.py:15: SettingWithCopyWarning: \n",
      "A value is trying to be set on a copy of a slice from a DataFrame.\n",
      "Try using .loc[row_indexer,col_indexer] = value instead\n",
      "\n",
      "See the caveats in the documentation: https://pandas.pydata.org/pandas-docs/stable/user_guide/indexing.html#returning-a-view-versus-a-copy\n",
      "  df[ticker] = df['Close'].pct_change()\n",
      "/var/folders/73/_pyhnkr96qgd0jnrc2yy1bdr0000gn/T/ipykernel_9194/2949330940.py:15: SettingWithCopyWarning: \n",
      "A value is trying to be set on a copy of a slice from a DataFrame.\n",
      "Try using .loc[row_indexer,col_indexer] = value instead\n",
      "\n",
      "See the caveats in the documentation: https://pandas.pydata.org/pandas-docs/stable/user_guide/indexing.html#returning-a-view-versus-a-copy\n",
      "  df[ticker] = df['Close'].pct_change()\n",
      "/var/folders/73/_pyhnkr96qgd0jnrc2yy1bdr0000gn/T/ipykernel_9194/2949330940.py:15: SettingWithCopyWarning: \n",
      "A value is trying to be set on a copy of a slice from a DataFrame.\n",
      "Try using .loc[row_indexer,col_indexer] = value instead\n",
      "\n",
      "See the caveats in the documentation: https://pandas.pydata.org/pandas-docs/stable/user_guide/indexing.html#returning-a-view-versus-a-copy\n",
      "  df[ticker] = df['Close'].pct_change()\n",
      "/var/folders/73/_pyhnkr96qgd0jnrc2yy1bdr0000gn/T/ipykernel_9194/2949330940.py:15: SettingWithCopyWarning: \n",
      "A value is trying to be set on a copy of a slice from a DataFrame.\n",
      "Try using .loc[row_indexer,col_indexer] = value instead\n",
      "\n",
      "See the caveats in the documentation: https://pandas.pydata.org/pandas-docs/stable/user_guide/indexing.html#returning-a-view-versus-a-copy\n",
      "  df[ticker] = df['Close'].pct_change()\n",
      "/var/folders/73/_pyhnkr96qgd0jnrc2yy1bdr0000gn/T/ipykernel_9194/2949330940.py:15: SettingWithCopyWarning: \n",
      "A value is trying to be set on a copy of a slice from a DataFrame.\n",
      "Try using .loc[row_indexer,col_indexer] = value instead\n",
      "\n",
      "See the caveats in the documentation: https://pandas.pydata.org/pandas-docs/stable/user_guide/indexing.html#returning-a-view-versus-a-copy\n",
      "  df[ticker] = df['Close'].pct_change()\n"
     ]
    }
   ],
   "source": [
    "# Fetch the data for Nifty50\n",
    "nifty50 = yf.download('^NSEI', start=start_date, end=end_date, progress=False)\n",
    "nifty50 = nifty50[['Close']]\n",
    "\n",
    "# Calculate the daily returns for Nifty50\n",
    "nifty50_returns = nifty50.pct_change().dropna()\n",
    "\n",
    "# Fetch the data for the top 10 stocks in Nifty50\n",
    "tickers = ['RELIANCE.NS', 'TCS.NS', 'HDFCBANK.NS', 'HINDUNILVR.NS', 'INFY.NS', 'KOTAKBANK.NS', 'BAJAJFINSV.NS', 'ICICIBANK.NS', 'LT.NS', 'SBIN.NS']\n",
    "top10_returns = pd.DataFrame()\n",
    "\n",
    "for ticker in tickers:\n",
    "    df = yf.download(ticker, start=start_date, end=end_date, progress=False)\n",
    "    df = df[['Close']]\n",
    "    df[ticker] = df['Close'].pct_change()\n",
    "    top10_returns = pd.concat([top10_returns, df[ticker]], axis=1)"
   ]
  },
  {
   "cell_type": "code",
   "execution_count": 1018,
   "metadata": {},
   "outputs": [],
   "source": [
    "# Combine the data for Nifty50 returns and the top 10 stock returns into a single dataframe\n",
    "data = pd.concat([nifty50_returns, top10_returns], axis=1)"
   ]
  },
  {
   "cell_type": "code",
   "execution_count": 1019,
   "metadata": {},
   "outputs": [],
   "source": [
    "# Check for null values and drop them\n",
    "data.isnull().sum()\n",
    "data = data.dropna()\n"
   ]
  },
  {
   "cell_type": "code",
   "execution_count": 1020,
   "metadata": {},
   "outputs": [
    {
     "data": {
      "text/html": [
       "<div>\n",
       "<style scoped>\n",
       "    .dataframe tbody tr th:only-of-type {\n",
       "        vertical-align: middle;\n",
       "    }\n",
       "\n",
       "    .dataframe tbody tr th {\n",
       "        vertical-align: top;\n",
       "    }\n",
       "\n",
       "    .dataframe thead th {\n",
       "        text-align: right;\n",
       "    }\n",
       "</style>\n",
       "<table border=\"1\" class=\"dataframe\">\n",
       "  <thead>\n",
       "    <tr style=\"text-align: right;\">\n",
       "      <th></th>\n",
       "      <th>Close</th>\n",
       "      <th>RELIANCE.NS</th>\n",
       "      <th>TCS.NS</th>\n",
       "      <th>HDFCBANK.NS</th>\n",
       "      <th>HINDUNILVR.NS</th>\n",
       "      <th>INFY.NS</th>\n",
       "      <th>KOTAKBANK.NS</th>\n",
       "      <th>BAJAJFINSV.NS</th>\n",
       "      <th>ICICIBANK.NS</th>\n",
       "      <th>LT.NS</th>\n",
       "      <th>SBIN.NS</th>\n",
       "    </tr>\n",
       "  </thead>\n",
       "  <tbody>\n",
       "    <tr>\n",
       "      <th>2020-04-16 00:00:00</th>\n",
       "      <td>0.007563</td>\n",
       "      <td>0.015828</td>\n",
       "      <td>-0.011008</td>\n",
       "      <td>0.019055</td>\n",
       "      <td>-0.020683</td>\n",
       "      <td>-0.023785</td>\n",
       "      <td>-0.036550</td>\n",
       "      <td>0.021852</td>\n",
       "      <td>0.044753</td>\n",
       "      <td>0.035789</td>\n",
       "      <td>0.033726</td>\n",
       "    </tr>\n",
       "    <tr>\n",
       "      <th>2020-04-17 00:00:00</th>\n",
       "      <td>0.030463</td>\n",
       "      <td>0.047900</td>\n",
       "      <td>0.052533</td>\n",
       "      <td>0.034726</td>\n",
       "      <td>-0.020976</td>\n",
       "      <td>0.007854</td>\n",
       "      <td>0.048990</td>\n",
       "      <td>0.063857</td>\n",
       "      <td>0.098099</td>\n",
       "      <td>0.023309</td>\n",
       "      <td>0.025199</td>\n",
       "    </tr>\n",
       "    <tr>\n",
       "      <th>2020-04-20 00:00:00</th>\n",
       "      <td>-0.000529</td>\n",
       "      <td>0.016177</td>\n",
       "      <td>0.006893</td>\n",
       "      <td>0.037955</td>\n",
       "      <td>-0.020314</td>\n",
       "      <td>0.039046</td>\n",
       "      <td>-0.007165</td>\n",
       "      <td>-0.023491</td>\n",
       "      <td>-0.037944</td>\n",
       "      <td>-0.018544</td>\n",
       "      <td>-0.003881</td>\n",
       "    </tr>\n",
       "    <tr>\n",
       "      <th>2020-04-21 00:00:00</th>\n",
       "      <td>-0.030275</td>\n",
       "      <td>-0.005186</td>\n",
       "      <td>-0.044539</td>\n",
       "      <td>-0.024554</td>\n",
       "      <td>-0.008196</td>\n",
       "      <td>-0.030767</td>\n",
       "      <td>-0.040416</td>\n",
       "      <td>-0.058825</td>\n",
       "      <td>-0.081511</td>\n",
       "      <td>-0.049421</td>\n",
       "      <td>-0.040260</td>\n",
       "    </tr>\n",
       "    <tr>\n",
       "      <th>2020-04-22 00:00:00</th>\n",
       "      <td>0.022919</td>\n",
       "      <td>0.102033</td>\n",
       "      <td>0.018329</td>\n",
       "      <td>0.007541</td>\n",
       "      <td>0.029667</td>\n",
       "      <td>0.013661</td>\n",
       "      <td>0.019466</td>\n",
       "      <td>0.039325</td>\n",
       "      <td>0.012355</td>\n",
       "      <td>-0.020394</td>\n",
       "      <td>0.021380</td>\n",
       "    </tr>\n",
       "  </tbody>\n",
       "</table>\n",
       "</div>"
      ],
      "text/plain": [
       "                        Close  RELIANCE.NS    TCS.NS  HDFCBANK.NS  \\\n",
       "2020-04-16 00:00:00  0.007563     0.015828 -0.011008     0.019055   \n",
       "2020-04-17 00:00:00  0.030463     0.047900  0.052533     0.034726   \n",
       "2020-04-20 00:00:00 -0.000529     0.016177  0.006893     0.037955   \n",
       "2020-04-21 00:00:00 -0.030275    -0.005186 -0.044539    -0.024554   \n",
       "2020-04-22 00:00:00  0.022919     0.102033  0.018329     0.007541   \n",
       "\n",
       "                     HINDUNILVR.NS   INFY.NS  KOTAKBANK.NS  BAJAJFINSV.NS  \\\n",
       "2020-04-16 00:00:00      -0.020683 -0.023785     -0.036550       0.021852   \n",
       "2020-04-17 00:00:00      -0.020976  0.007854      0.048990       0.063857   \n",
       "2020-04-20 00:00:00      -0.020314  0.039046     -0.007165      -0.023491   \n",
       "2020-04-21 00:00:00      -0.008196 -0.030767     -0.040416      -0.058825   \n",
       "2020-04-22 00:00:00       0.029667  0.013661      0.019466       0.039325   \n",
       "\n",
       "                     ICICIBANK.NS     LT.NS   SBIN.NS  \n",
       "2020-04-16 00:00:00      0.044753  0.035789  0.033726  \n",
       "2020-04-17 00:00:00      0.098099  0.023309  0.025199  \n",
       "2020-04-20 00:00:00     -0.037944 -0.018544 -0.003881  \n",
       "2020-04-21 00:00:00     -0.081511 -0.049421 -0.040260  \n",
       "2020-04-22 00:00:00      0.012355 -0.020394  0.021380  "
      ]
     },
     "execution_count": 1020,
     "metadata": {},
     "output_type": "execute_result"
    }
   ],
   "source": [
    "# Split the data into training and test sets\n",
    "train_data, test_data = train_test_split(data, test_size=0.2, random_state=42)\n",
    "X = train_data.drop('Close', axis = 1)\n",
    "Y = train_data['Close']\n",
    "data.head()"
   ]
  },
  {
   "cell_type": "code",
   "execution_count": 1021,
   "metadata": {},
   "outputs": [
    {
     "name": "stdout",
     "output_type": "stream",
     "text": [
      "                  Close  RELIANCE.NS    TCS.NS  HDFCBANK.NS  HINDUNILVR.NS  \\\n",
      "Close          1.000000     0.601955  0.540743     0.748871       0.377598   \n",
      "RELIANCE.NS    0.601955     1.000000  0.282854     0.338966       0.177851   \n",
      "TCS.NS         0.540743     0.282854  1.000000     0.277331       0.230796   \n",
      "HDFCBANK.NS    0.748871     0.338966  0.277331     1.000000       0.200675   \n",
      "HINDUNILVR.NS  0.377598     0.177851  0.230796     0.200675       1.000000   \n",
      "INFY.NS        0.565406     0.249531  0.694364     0.309794       0.210654   \n",
      "KOTAKBANK.NS   0.645387     0.275727  0.208260     0.576536       0.250161   \n",
      "BAJAJFINSV.NS  0.663585     0.322420  0.262286     0.455242       0.215821   \n",
      "ICICIBANK.NS   0.743755     0.290193  0.232587     0.624474       0.179377   \n",
      "LT.NS          0.656185     0.269610  0.264342     0.470077       0.219079   \n",
      "SBIN.NS        0.689969     0.312087  0.188824     0.514785       0.155422   \n",
      "\n",
      "                INFY.NS  KOTAKBANK.NS  BAJAJFINSV.NS  ICICIBANK.NS     LT.NS  \\\n",
      "Close          0.565406      0.645387       0.663585      0.743755  0.656185   \n",
      "RELIANCE.NS    0.249531      0.275727       0.322420      0.290193  0.269610   \n",
      "TCS.NS         0.694364      0.208260       0.262286      0.232587  0.264342   \n",
      "HDFCBANK.NS    0.309794      0.576536       0.455242      0.624474  0.470077   \n",
      "HINDUNILVR.NS  0.210654      0.250161       0.215821      0.179377  0.219079   \n",
      "INFY.NS        1.000000      0.235657       0.287635      0.276095  0.308497   \n",
      "KOTAKBANK.NS   0.235657      1.000000       0.460128      0.552312  0.399233   \n",
      "BAJAJFINSV.NS  0.287635      0.460128       1.000000      0.537699  0.453667   \n",
      "ICICIBANK.NS   0.276095      0.552312       0.537699      1.000000  0.502536   \n",
      "LT.NS          0.308497      0.399233       0.453667      0.502536  1.000000   \n",
      "SBIN.NS        0.210655      0.461804       0.528331      0.673217  0.496477   \n",
      "\n",
      "                SBIN.NS  \n",
      "Close          0.689969  \n",
      "RELIANCE.NS    0.312087  \n",
      "TCS.NS         0.188824  \n",
      "HDFCBANK.NS    0.514785  \n",
      "HINDUNILVR.NS  0.155422  \n",
      "INFY.NS        0.210655  \n",
      "KOTAKBANK.NS   0.461804  \n",
      "BAJAJFINSV.NS  0.528331  \n",
      "ICICIBANK.NS   0.673217  \n",
      "LT.NS          0.496477  \n",
      "SBIN.NS        1.000000  \n"
     ]
    }
   ],
   "source": [
    "print(data.corr())"
   ]
  },
  {
   "cell_type": "code",
   "execution_count": 1022,
   "metadata": {},
   "outputs": [
    {
     "data": {
      "image/png": "[encoded data removed]",
      "text/plain": [
       "<Figure size 432x288 with 2 Axes>"
      ]
     },
     "metadata": {
      "needs_background": "light"
     },
     "output_type": "display_data"
    }
   ],
   "source": [
    "sns.heatmap(data.corr())\n",
    "plt.show()"
   ]
  },
  {
   "cell_type": "code",
   "execution_count": 1023,
   "metadata": {},
   "outputs": [],
   "source": [
    "# Standardize the data\n",
    "scaler = StandardScaler()\n",
    "X_scaled = scaler.fit_transform(X)"
   ]
  },
  {
   "cell_type": "code",
   "execution_count": 1024,
   "metadata": {},
   "outputs": [],
   "source": [
    "# Perform PCA with n components\n",
    "n = 4\n",
    "pca = PCA(n_components=n)\n",
    "X_pca = pca.fit_transform(X_scaled)\n"
   ]
  },
  {
   "cell_type": "code",
   "execution_count": 1025,
   "metadata": {},
   "outputs": [
    {
     "name": "stdout",
     "output_type": "stream",
     "text": [
      "                    PC1       PC2       PC3       PC4\n",
      "RELIANCE.NS   -0.242010 -0.090708 -0.208995 -0.928886\n",
      "TCS.NS        -0.247577 -0.627598  0.221593  0.037271\n",
      "HDFCBANK.NS   -0.372489  0.154323  0.101505  0.056991\n",
      "HINDUNILVR.NS -0.179090 -0.236115 -0.897887  0.257908\n",
      "INFY.NS       -0.275530 -0.575300  0.252532  0.108989\n",
      "KOTAKBANK.NS  -0.341266  0.157043 -0.080421  0.131639\n",
      "BAJAJFINSV.NS -0.349014  0.109188  0.041013 -0.054964\n",
      "ICICIBANK.NS  -0.392201  0.242359  0.116867  0.103706\n",
      "LT.NS         -0.336120  0.089364 -0.023324  0.151753\n",
      "SBIN.NS       -0.358229  0.289911  0.067739  0.001964\n"
     ]
    }
   ],
   "source": [
    "# Get the principal component loadings\n",
    "df_comp = pd.DataFrame(pca.components_.T, columns=[f'PC{i+1}' for i in range(n)], index=X.columns)\n",
    "print(df_comp)"
   ]
  },
  {
   "cell_type": "code",
   "execution_count": 1026,
   "metadata": {},
   "outputs": [
    {
     "data": {
      "text/html": [
       "<table class=\"simpletable\">\n",
       "<caption>OLS Regression Results</caption>\n",
       "<tr>\n",
       "  <th>Dep. Variable:</th>          <td>Close</td>      <th>  R-squared:         </th> <td>   0.951</td>\n",
       "</tr>\n",
       "<tr>\n",
       "  <th>Model:</th>                   <td>OLS</td>       <th>  Adj. R-squared:    </th> <td>   0.951</td>\n",
       "</tr>\n",
       "<tr>\n",
       "  <th>Method:</th>             <td>Least Squares</td>  <th>  F-statistic:       </th> <td>   2867.</td>\n",
       "</tr>\n",
       "<tr>\n",
       "  <th>Date:</th>             <td>Fri, 14 Apr 2023</td> <th>  Prob (F-statistic):</th>  <td>  0.00</td> \n",
       "</tr>\n",
       "<tr>\n",
       "  <th>Time:</th>                 <td>13:10:30</td>     <th>  Log-Likelihood:    </th> <td>  2751.4</td>\n",
       "</tr>\n",
       "<tr>\n",
       "  <th>No. Observations:</th>      <td>   596</td>      <th>  AIC:               </th> <td>  -5493.</td>\n",
       "</tr>\n",
       "<tr>\n",
       "  <th>Df Residuals:</th>          <td>   591</td>      <th>  BIC:               </th> <td>  -5471.</td>\n",
       "</tr>\n",
       "<tr>\n",
       "  <th>Df Model:</th>              <td>     4</td>      <th>                     </th>     <td> </td>   \n",
       "</tr>\n",
       "<tr>\n",
       "  <th>Covariance Type:</th>      <td>nonrobust</td>    <th>                     </th>     <td> </td>   \n",
       "</tr>\n",
       "</table>\n",
       "<table class=\"simpletable\">\n",
       "<tr>\n",
       "    <td></td>       <th>coef</th>     <th>std err</th>      <th>t</th>      <th>P>|t|</th>  <th>[0.025</th>    <th>0.975]</th>  \n",
       "</tr>\n",
       "<tr>\n",
       "  <th>const</th> <td>    0.0007</td> <td> 9.84e-05</td> <td>    7.178</td> <td> 0.000</td> <td>    0.001</td> <td>    0.001</td>\n",
       "</tr>\n",
       "<tr>\n",
       "  <th>x1</th>    <td>   -0.0050</td> <td> 4.72e-05</td> <td> -106.300</td> <td> 0.000</td> <td>   -0.005</td> <td>   -0.005</td>\n",
       "</tr>\n",
       "<tr>\n",
       "  <th>x2</th>    <td>   -0.0006</td> <td> 8.36e-05</td> <td>   -7.089</td> <td> 0.000</td> <td>   -0.001</td> <td>   -0.000</td>\n",
       "</tr>\n",
       "<tr>\n",
       "  <th>x3</th>    <td>   -0.0003</td> <td>    0.000</td> <td>   -2.852</td> <td> 0.004</td> <td>   -0.001</td> <td> -9.3e-05</td>\n",
       "</tr>\n",
       "<tr>\n",
       "  <th>x4</th>    <td>   -0.0012</td> <td>    0.000</td> <td>  -10.464</td> <td> 0.000</td> <td>   -0.001</td> <td>   -0.001</td>\n",
       "</tr>\n",
       "</table>\n",
       "<table class=\"simpletable\">\n",
       "<tr>\n",
       "  <th>Omnibus:</th>       <td>19.025</td> <th>  Durbin-Watson:     </th> <td>   2.047</td>\n",
       "</tr>\n",
       "<tr>\n",
       "  <th>Prob(Omnibus):</th> <td> 0.000</td> <th>  Jarque-Bera (JB):  </th> <td>  43.296</td>\n",
       "</tr>\n",
       "<tr>\n",
       "  <th>Skew:</th>          <td>-0.017</td> <th>  Prob(JB):          </th> <td>3.97e-10</td>\n",
       "</tr>\n",
       "<tr>\n",
       "  <th>Kurtosis:</th>      <td> 4.320</td> <th>  Cond. No.          </th> <td>    2.34</td>\n",
       "</tr>\n",
       "</table><br/><br/>Notes:<br/>[1] Standard Errors assume that the covariance matrix of the errors is correctly specified."
      ],
      "text/plain": [
       "<class 'statsmodels.iolib.summary.Summary'>\n",
       "\"\"\"\n",
       "                            OLS Regression Results                            \n",
       "==============================================================================\n",
       "Dep. Variable:                  Close   R-squared:                       0.951\n",
       "Model:                            OLS   Adj. R-squared:                  0.951\n",
       "Method:                 Least Squares   F-statistic:                     2867.\n",
       "Date:                Fri, 14 Apr 2023   Prob (F-statistic):               0.00\n",
       "Time:                        13:10:30   Log-Likelihood:                 2751.4\n",
       "No. Observations:                 596   AIC:                            -5493.\n",
       "Df Residuals:                     591   BIC:                            -5471.\n",
       "Df Model:                           4                                         \n",
       "Covariance Type:            nonrobust                                         \n",
       "==============================================================================\n",
       "                 coef    std err          t      P>|t|      [0.025      0.975]\n",
       "------------------------------------------------------------------------------\n",
       "const          0.0007   9.84e-05      7.178      0.000       0.001       0.001\n",
       "x1            -0.0050   4.72e-05   -106.300      0.000      -0.005      -0.005\n",
       "x2            -0.0006   8.36e-05     -7.089      0.000      -0.001      -0.000\n",
       "x3            -0.0003      0.000     -2.852      0.004      -0.001    -9.3e-05\n",
       "x4            -0.0012      0.000    -10.464      0.000      -0.001      -0.001\n",
       "==============================================================================\n",
       "Omnibus:                       19.025   Durbin-Watson:                   2.047\n",
       "Prob(Omnibus):                  0.000   Jarque-Bera (JB):               43.296\n",
       "Skew:                          -0.017   Prob(JB):                     3.97e-10\n",
       "Kurtosis:                       4.320   Cond. No.                         2.34\n",
       "==============================================================================\n",
       "\n",
       "Notes:\n",
       "[1] Standard Errors assume that the covariance matrix of the errors is correctly specified.\n",
       "\"\"\""
      ]
     },
     "execution_count": 1026,
     "metadata": {},
     "output_type": "execute_result"
    }
   ],
   "source": [
    "# Get the principal component scores\n",
    "X_scores = pca.transform(X_scaled)\n",
    "X_pca = sm.add_constant(X_scores)\n",
    "model = sm.OLS(Y, X_pca).fit()\n",
    "model.summary()\n"
   ]
  },
  {
   "cell_type": "code",
   "execution_count": 1027,
   "metadata": {},
   "outputs": [],
   "source": [
    "# Scale the test_data without the constant term\n",
    "test_data_scaled = scaler.transform(test_data.drop('Close', axis=1))\n",
    "\n",
    "# Perform PCA transformation on the scaled test_data\n",
    "test_data_pca = pca.transform(test_data_scaled)\n",
    "\n",
    "\n",
    "test_data_scores = pd.DataFrame(test_data_pca, columns=[f'PC{i+1}' for i in range(n)], index=test_data.index)\n",
    "\n",
    "# Add a constant term to the test_data principal component scores\n",
    "test_data_pca_const = sm.add_constant(test_data_scores)"
   ]
  },
  {
   "cell_type": "code",
   "execution_count": 1028,
   "metadata": {},
   "outputs": [],
   "source": [
    "# Make predictions on the test_data set\n",
    "Y_pred = model.predict(test_data_pca_const)"
   ]
  },
  {
   "cell_type": "code",
   "execution_count": 1029,
   "metadata": {},
   "outputs": [],
   "source": [
    "# Make predictions on the train_data set\n",
    "Y_train_pred = model.predict(X_pca)"
   ]
  },
  {
   "cell_type": "code",
   "execution_count": 1030,
   "metadata": {},
   "outputs": [],
   "source": [
    "def mean_absolute_percentage_error(y_true, y_pred):\n",
    "    return np.mean(np.abs((y_true - y_pred) / y_true)) * 100"
   ]
  },
  {
   "cell_type": "code",
   "execution_count": 1031,
   "metadata": {},
   "outputs": [
    {
     "name": "stdout",
     "output_type": "stream",
     "text": [
      "Train Data Metrics:\n",
      "MSE: 5.725254128250406e-06\n",
      "RMSE: 0.0023927503271863543\n",
      "R-squared: 0.9509894154057158\n",
      "MAE: 0.0018035715014122753\n",
      "MAPE: 138.87762547810743\n",
      "\n",
      "\n",
      "Test Data Metrics:\n",
      "MSE: 5.3300795113415295e-06\n",
      "RMSE: 0.002308696496151352\n",
      "R-squared: 0.9486497680335211\n",
      "MAE: 0.0017156198214136535\n",
      "MAPE: 89.21622800502261\n"
     ]
    }
   ],
   "source": [
    "# Evaluate the model on train_data\n",
    "mse_train = mean_squared_error(Y, Y_train_pred)\n",
    "rmse_train = np.sqrt(mse_train)\n",
    "r2_train = r2_score(Y, Y_train_pred)\n",
    "mae_train = mean_absolute_error(Y, Y_train_pred)\n",
    "mape_train = mean_absolute_percentage_error(Y, Y_train_pred)\n",
    "\n",
    "print(\"Train Data Metrics:\")\n",
    "print(\"MSE:\", mse_train)\n",
    "print(\"RMSE:\", rmse_train)\n",
    "print(\"R-squared:\", r2_train)\n",
    "print(\"MAE:\", mae_train)\n",
    "print(\"MAPE:\", mape_train)\n",
    "print(\"\\n\")\n",
    "\n",
    "# Evaluate the model on test_data\n",
    "mse_test = mean_squared_error(test_data['Close'], Y_pred)\n",
    "rmse_test = np.sqrt(mse_test)\n",
    "r2_test = r2_score(test_data['Close'], Y_pred)\n",
    "mae_test = mean_absolute_error(test_data['Close'], Y_pred)\n",
    "mape_test = mean_absolute_percentage_error(test_data['Close'], Y_pred)\n",
    "\n",
    "print(\"Test Data Metrics:\")\n",
    "print(\"MSE:\", mse_test)\n",
    "print(\"RMSE:\", rmse_test)\n",
    "print(\"R-squared:\", r2_test)\n",
    "print(\"MAE:\", mae_test)\n",
    "print(\"MAPE:\", mape_test)"
   ]
  },
  {
   "attachments": {},
   "cell_type": "markdown",
   "metadata": {},
   "source": [
    "Train Data Metrics:\n",
    "MSE: 5.725254128250407e-06\n",
    "RMSE: 0.0023927503271863547\n",
    "R-squared: 0.9509894154057158\n",
    "MAE: 0.0018035715014122753\n",
    "MAPE: 138.87762547810757\n",
    "\n",
    "\n",
    "Test Data Metrics:\n",
    "MSE: 5.330079511341532e-06\n",
    "RMSE: 0.0023086964961513525\n",
    "R-squared: 0.9486497680335211\n",
    "MAE: 0.0017156198214136542\n",
    "MAPE: 89.2162280050227  \n",
    "\n",
    "Directional Accuracy (Train Data): 94.12751677852349\n",
    "Directional Accuracy (Test Data): 91.94630872483222\n",
    "\n",
    "Got these results. Csn you give me content for some 8 slides to summarize this project and findings. Also have a slide on why I selected the 10 stocks I did in the initial slide content. Give insights and thoughts on results in this."
   ]
  },
  {
   "cell_type": "code",
   "execution_count": 1032,
   "metadata": {},
   "outputs": [
    {
     "name": "stdout",
     "output_type": "stream",
     "text": [
      "Directional Accuracy (Train Data): 94.12751677852349\n",
      "Directional Accuracy (Test Data): 91.94630872483222\n"
     ]
    }
   ],
   "source": [
    "def directional_accuracy(y_true, y_pred):\n",
    "    return np.mean(np.sign(y_true) == np.sign(y_pred)) * 100\n",
    "\n",
    "dir_acc_train = directional_accuracy(Y, Y_train_pred)\n",
    "dir_acc_test = directional_accuracy(test_data['Close'], Y_pred)\n",
    "\n",
    "print(\"Directional Accuracy (Train Data):\", dir_acc_train)\n",
    "print(\"Directional Accuracy (Test Data):\", dir_acc_test)"
   ]
  },
  {
   "cell_type": "code",
   "execution_count": 1035,
   "metadata": {},
   "outputs": [],
   "source": [
    "# Sort the test_data by index (dates)\n",
    "test_data_sorted = test_data.sort_index()\n",
    "Y_pred_sorted = pd.Series(Y_pred, index=test_data.index).sort_index()"
   ]
  },
  {
   "cell_type": "code",
   "execution_count": 1036,
   "metadata": {},
   "outputs": [
    {
     "data": {
      "image/png": "[encoded data removed]",
      "text/plain": [
       "<Figure size 864x432 with 1 Axes>"
      ]
     },
     "metadata": {
      "needs_background": "light"
     },
     "output_type": "display_data"
    }
   ],
   "source": [
    "plt.figure(figsize=(12, 6))\n",
    "\n",
    "# Plot the actual values\n",
    "plt.plot(test_data_sorted.index, test_data_sorted['Close'], label='Actual', linestyle='-', marker='o', color='blue')\n",
    "\n",
    "# Plot the predicted values\n",
    "plt.plot(test_data_sorted.index, Y_pred_sorted, label='Predicted', linestyle='-', marker='o', color='orange')\n",
    "\n",
    "# Set plot title and axis labels\n",
    "plt.title('Actual vs. Predicted Nifty50 Returns')\n",
    "plt.xlabel('Date')\n",
    "plt.ylabel('Returns')\n",
    "\n",
    "# Format the x-axis to show the dates in a readable format and set the interval\n",
    "date_format = mdates.DateFormatter('%Y-%m-%d')\n",
    "plt.gca().xaxis.set_major_formatter(date_format)\n",
    "plt.gca().xaxis.set_major_locator(mdates.WeekdayLocator(interval=5))  # Set interval to display a date every 2 weeks\n",
    "\n",
    "# Set the x-axis tick labels to be slanting\n",
    "plt.xticks(rotation=45, ha='right')\n",
    "\n",
    "# Set legend and plot grid\n",
    "plt.legend()\n",
    "plt.grid()\n",
    "\n",
    "# Show the plot\n",
    "plt.show()"
   ]
  },
  {
   "cell_type": "code",
   "execution_count": 1034,
   "metadata": {},
   "outputs": [
    {
     "name": "stdout",
     "output_type": "stream",
     "text": [
      "[*********************100%***********************]  1 of 1 completed\n",
      "Average % increase/decrease in daily returns for past 3 years:  0.00805700294500684\n"
     ]
    }
   ],
   "source": [
    "import yfinance as yf\n",
    "\n",
    "# set the ticker symbol for Nifty50\n",
    "ticker = \"^NSEI\"\n",
    "\n",
    "# fetch the historical data for the last 4 years\n",
    "data = yf.download(ticker, start=start_date, end=end_date)\n",
    "\n",
    "# calculate the difference between the open and close values\n",
    "diff = abs(data['Close'].pct_change().dropna())\n",
    "\n",
    "# calculate the average of the difference values\n",
    "avg_diff = diff.mean()\n",
    "\n",
    "# print the result\n",
    "print(\"Average % increase/decrease in daily returns for past 3 years: \", avg_diff)\n"
   ]
  }
 ],
 "metadata": {
  "kernelspec": {
   "display_name": "base",
   "language": "python",
   "name": "python3"
  },
  "language_info": {
   "codemirror_mode": {
    "name": "ipython",
    "version": 3
   },
   "file_extension": ".py",
   "mimetype": "text/x-python",
   "name": "python",
   "nbconvert_exporter": "python",
   "pygments_lexer": "ipython3",
   "version": "3.9.16"
  },
  "orig_nbformat": 4,
  "vscode": {
   "interpreter": {
    "hash": "c6e4e9f98eb68ad3b7c296f83d20e6de614cb42e90992a65aa266555a3137d0d"
   }
  }
 },
 "nbformat": 4,
 "nbformat_minor": 2
}
